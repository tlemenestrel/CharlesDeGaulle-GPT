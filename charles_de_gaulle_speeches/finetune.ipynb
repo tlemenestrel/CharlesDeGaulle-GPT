{
 "cells": [
  {
   "cell_type": "code",
   "execution_count": 1,
   "id": "5865a7ba",
   "metadata": {},
   "outputs": [],
   "source": [
    "import pandas as pd\n",
    "from transformers import AutoTokenizer, DataCollatorForLanguageModeling, AutoModelForCausalLM, TrainingArguments, Trainer, pipeline\n",
    "from datasets import Dataset\n",
    "from pynvml import *"
   ]
  },
  {
   "cell_type": "code",
   "execution_count": 2,
   "id": "2bb6c353",
   "metadata": {},
   "outputs": [],
   "source": [
    "from transformers import set_seed\n",
    "\n",
    "set_seed(42)"
   ]
  },
  {
   "cell_type": "code",
   "execution_count": 3,
   "id": "648616c0",
   "metadata": {},
   "outputs": [
    {
     "name": "stdout",
     "output_type": "stream",
     "text": [
      "GPU memory occupied: 756 MB.\n"
     ]
    }
   ],
   "source": [
    "def print_gpu_utilization():\n",
    "    nvmlInit()\n",
    "    handle = nvmlDeviceGetHandleByIndex(0)\n",
    "    info = nvmlDeviceGetMemoryInfo(handle)\n",
    "    print(f\"GPU memory occupied: {info.used//1024**2} MB.\")\n",
    "    \n",
    "def print_summary(result):\n",
    "    print(f\"Time: {result.metrics['train_runtime']:.2f}\")\n",
    "    print(f\"Samples/second: {result.metrics['train_samples_per_second']:.2f}\")\n",
    "    print_gpu_utilization()\n",
    "    \n",
    "print_gpu_utilization()"
   ]
  },
  {
   "cell_type": "markdown",
   "id": "5b765a65",
   "metadata": {},
   "source": [
    "### Load dataset"
   ]
  },
  {
   "cell_type": "code",
   "execution_count": 4,
   "id": "5e2228c2",
   "metadata": {},
   "outputs": [],
   "source": [
    "df = pd.read_csv('cleaning/dataset.csv')\n",
    "df = df.rename(columns={'0': 'text'})"
   ]
  },
  {
   "cell_type": "code",
   "execution_count": 5,
   "id": "bee8384a",
   "metadata": {},
   "outputs": [
    {
     "name": "stdout",
     "output_type": "stream",
     "text": [
      "Discours sur la politique de rigueur, 28 décembre 1958     Le 21 décembre, le général de Gaulle a été élu Président de la République française et de  la  Communauté.  En  annonçant  qu'il  accepte  le  mandat  qui  lui  a  été  confié,  il  expose  comment il l'accomplira et donne les raisons de la politique financière de rigueur qui va  être mise en œuvre.    Avant tout, Françaises, Français, je veux vous dire que j'accepte le mandat que vous m'avez  confié. Votre décision fut marquée lors de la crise nationale du mois de mai, affirmée par le  référendum,  répétée  par  les  élections,  précisée  par  le  vote  des  élus  dimanche  dernier.  La  tâche nationale qui m'incombe depuis dix-huit ans se trouve, de ce fait, confirmée. Guide de  la France et Chef de l'État républicain, j'exercerai le pouvoir suprême dans toute l'étendue  qu'il comporte désormais et suivant l'esprit nouveau qui me l'a fait attribuer.  L'appel  qui  m'est  adressé  par  le  pays  exprime  son  instinct  du  salut.  S'il  me  charge  de  le  conduire, c'est parce qu'il veut aller, non certes à la facilité, mais à l'effort et au renouveau.  Depuis sept mois, assez remplis, nous y allons, en effet, et faisons quelques grands pas sur  la  voie  du  redressement.  En  vérité,  il  était  temps.  Car,  à  la  veille  du  démarrage,  l'unité  française se trouvait sur le point de se briser, entraînant tout à l'effondrement.  Bien entendu, le danger s'étendait aux finances et à l'économie. Dans les derniers jours de  mai, nous étions, à cet égard, sur la route de la catastrophe. La balance des comptes entre ce  qu'il  nous  fallait  acheter  au-dehors  et  ce  que  nous  pouvions  y  vendre  atteignait  un  déficit  apparemment  irréductible,  tandis  que  les  prêts  étrangers  se  trouvaient  presque  épuisés.  D'ailleurs, on ne voyait plus comment faire face normalement à toutes les dépenses de l'État,  les impôts n'y suffisant point et le crédit semblant s'éteindre. Enfin, les prix ne cessaient pas  de  monter,  ainsi  que  l'inquiétude  sociale.  Brochant  sur  le  tout,  une  certaine  récession  se  faisait déjà sentir. Le mouvement du mois de mai, s'il apparut d'abord en Algérie, procédait  en  réalité  de  la  conviction  générale  que  le  pouvoir  était  impuissant  devant  la  marée  des  menaces, y compris, naturellement, celles qui pesaient sur notre économie.  La confiance du pays nous a permis, dans ce domaine comme dans les autres, de renverser  la tendance et de parer au plus pressé. Cependant, la situation demeure précaire, c'est-à-dire  dangereuse. Quand on mesure les espoirs que nous apportent la nombreuse jeunesse venue  au  monde  depuis  la  guerre,  le  pétrole,  le  gaz  et  l'uranium  découverts,  notre  outillage  en  progrès,  nos  élites  nouvelles  surgissant  du  fond  du  peuple,  notre  association  avec  la  Communauté,  l'élargissement  imminent  du  marché  européen,  on  est  saisi  à  la  fois  par  l'impatience et la résolution.  Avec  mon  gouvernement,  j'ai  donc  pris  la  décision  de  mettre  nos  affaires  en  ordre  réellement et profondément. Le budget en est l'occasion, peut-être ultime, très bonne en tout  cas.  Nous  avons  adopté  et,  demain,  nous  appliquerons  tout  un  ensemble  de  mesures  financières, économiques, sociales, qui établit la nation sur une base de vérité et de sévérité,  la seule qui puisse lui permettre de bâtir sa prospérité. Je ne cache pas que notre pays va se  trouver quelque temps à l'épreuve. Mais le rétablissement visé est tel qu'il peut nous payer  de tout.  Au  point  de  vue  des  charges  publiques,  rien  ne  saurait  être  accepté  qui  aboutisse  à  l'inflation. Mais, en même temps, tout doit être fait pour poursuivre, et même pour accroître,  les investissements qui commandent notre avenir, soit dans le domaine social : logements,  écoles, hôpitaux, soit dans le domaine économique : énergie, équipement, communications.  En  outre,  nous  avons  entrepris  de  transformer  l'Algérie  tandis  qu'avance  la  pacification.  Encore. nous faut-il concourir à la mise en valeur des pays de la Communauté. Enfin, nous  ne pouvons pas, dans l'état où est l'univers, nous dispenser d'une force militaire importante.  Mais toutes ces obligations, jointes aux dépenses normales de l'État, comporteraient, si nous   \f",
      "laissions aller les choses, un déficit de 1 200 milliards, soit deux fois plus que l'épargne n'est  susceptible  de  nous  fournir.  A  moins  de  recourir  à  la  ruineuse  inflation  ou  de  faillir  à  la  France, il n'y a rien d'autre à faire que de réduire de moitié le déficit menaçant. C'est ce qui  est décidé.  Tout à l'heure, M. Pinay, ministre des Finances et des Affaires économiques, vous indiquera  avec précision quelles dispositions sont prises. En voici l'essentiel. Accroître les impôts sur  les  sociétés  et  sur  les  revenus  élevés.  Taxer  le  vin,  l'alcool,  le  tabac.  Supprimer  maintes  subventions  accordées  par  le  Trésor  et  qui  s'appliquent,  en  particulier,  à  des  produits  de  consommation.  Réduire  la  participation  du  budget  au  financement  des  entreprises  nationalisées,  notamment  des  chemins  de  fer.  Combler,  dans  le  fonctionnement  des  assurances  sociales,  le  déficit  dont  les  fonds  publics  ont  à  supporter  la  charge.  Inviter  les  anciens combattants qui sont pourvus du nécessaire et qui ne sont pas invalides à renoncer à  leur retraite ; les pensions des veuves, des orphelins, des mutilés, restant, bien entendu, ce  qu'elles sont. Abolir une série de ces indexations qui ne sont, en réalité, que proclamations  de méfiance à l'égard de la monnaie. En revanche, augmenter de 245 milliards, c'est-à-dire  de 25 %, le montant des investissements qui sont notre richesse future et ouvrent carrière à  notre  jeunesse.  Voilà  de  rudes  dispositions  !  Je  ne  sais  que  trop  ce  que,  dans  l'immédiat,  elles  coûteront  à  beaucoup.  Mais  je  les  crois  efficaces,  je  les  tiens  pour  nécessaires,  et  je  suis sûr qu'en définitive tout le monde tirera profit de l'équilibre ainsi réalisé.  Comme on peut s'attendre à ce qu'il en résulte, au moins momentanément, quelque hausse  du niveau des prix, le gouvernement prend aussi des mesures relatives au pouvoir d'achat,  de  celui  surtout  des  Français  dont  le  revenu  est  le  plus  modeste.  Le  1er  février,  le  salaire  minimum  interprofessionnel  garanti  sera  accru  en  conséquence,  tandis  que,  dès  le  1er  janvier, les vieilles gens verront leur retraite majorée de 5 200 francs. J'ajoute que va être  créé, par coopération du patronat et des syndicats, un fonds spécial destiné au maintien de  l'emploi et assurant aux travailleurs qui se trouveraient en chômage, un complément portant  l'allocation aux environs du salaire minimum. Quant aux personnels dépendant directement  de l'État : fonction publique, services, entreprises nationalisées, il est prévu, qu'à partir du  1er février, leur rémunération sera, \"ne varietur\", augmentée de 4 %.  Dans  le  monde  d'aujourd'hui,  rien  ne  vaut  que  par  comparaison.  Or,  nous  sommes  actuellement,  vis-à-vis  de  l'extérieur,  dans  une  situation  économique  diminuée.  Empêchés  d'importer  et  d'exporter  suffisamment,  endettés,  privés  de  crédit,  alors  que  nos  produits,  notre technique, nos capacités, sont à hauteur de toutes les concurrences, nous sommes loin  d'atteindre  au  large  niveau  d'échanges  qui  développerait  notre  activité.  Ce  qu'il  y  a  d'artificiel dans la valeur de notre monnaie provient, certes, du déséquilibre de nos affaires,  mais n'en est pas moins une cause permanente de difficultés.  C'est pourquoi, tout en remédiant au désordre fondamental, nous devons placer notre franc  sur  une  base  telle  qu'il  soit  inébranlable.  Nous  le  faisons  donc,  regrettant  d'en  abaisser  le  taux,  mais  tirant  les  conséquences  de  négligences  prolongées.  Du  même  coup,  notre  monnaie devient convertible au-dehors en toutes monnaies étrangères, en même temps et au  même titre que plusieurs de nos partenaires européens le font pour leur livre, leur mark, leur  lire, leur florin, etc. Au surplus, le vieux franc français, si souvent mutilé à mesure de nos  vicissitudes, nous voulons qu'il reprenne une substance conforme au respect qui lui est dû.  Avant la fin de 1959, apparaîtra le franc nouveau valant cent francs d'aujourd'hui. Quant aux  échanges avec l'étranger nous avons pris la décision de les libérer à 90 % ouvrant les vannes  au  courant  et  replaçant  décidément  la  France,  dans  le  domaine  économique,  à  son  rang  international.  Cet  ensemble,  dont  toutes  les  parties  se  tiennent  et  se  complètent,  cet  ensemble  est  grave  mais  essentiel.  Sans  l'effort  de  remise  en  ordre,  avec  les  sacrifices  qu'il  requiert  et  les  espoirs qu'il comporte, nous resterons un pays à la traîne, oscillant perpétuellement entre le   \f",
      "drame et la médiocrité. Au contraire, si nous réussissons la grande entreprise nationale de  redressement  financier  et  économique,  quelle  étape  sur  la  route  qui  nous  mène  vers  les  sommets ! C'est le voeu que je forme à l'adresse de toutes et de tous tandis qu'approche la  nouvelle année.  Peuple français, grand peuple ! fierté, courage, espérance  Vive la République !  Vive la France !\n"
     ]
    }
   ],
   "source": [
    "df = df.replace(r'\\n',' ', regex=True) \n",
    "print(df.iloc[0]['text'])"
   ]
  },
  {
   "cell_type": "code",
   "execution_count": 6,
   "id": "554455df",
   "metadata": {},
   "outputs": [],
   "source": [
    "dataset = Dataset.from_pandas(df)"
   ]
  },
  {
   "cell_type": "code",
   "execution_count": 7,
   "id": "8d53e042",
   "metadata": {},
   "outputs": [
    {
     "name": "stdout",
     "output_type": "stream",
     "text": [
      "Dataset({\n",
      "    features: ['text'],\n",
      "    num_rows: 89\n",
      "})\n"
     ]
    }
   ],
   "source": [
    "print(dataset)"
   ]
  },
  {
   "cell_type": "code",
   "execution_count": 8,
   "id": "8aece292",
   "metadata": {},
   "outputs": [],
   "source": [
    "dataset = dataset.train_test_split(test_size=0.2)"
   ]
  },
  {
   "cell_type": "code",
   "execution_count": 9,
   "id": "8ef37841",
   "metadata": {},
   "outputs": [
    {
     "name": "stdout",
     "output_type": "stream",
     "text": [
      "DatasetDict({\n",
      "    train: Dataset({\n",
      "        features: ['text'],\n",
      "        num_rows: 71\n",
      "    })\n",
      "    test: Dataset({\n",
      "        features: ['text'],\n",
      "        num_rows: 18\n",
      "    })\n",
      "})\n"
     ]
    }
   ],
   "source": [
    "print(dataset)"
   ]
  },
  {
   "cell_type": "code",
   "execution_count": 10,
   "id": "3491fa86",
   "metadata": {},
   "outputs": [
    {
     "name": "stderr",
     "output_type": "stream",
     "text": [
      "Special tokens have been added in the vocabulary, make sure the associated word embeddings are fine-tuned or trained.\n"
     ]
    }
   ],
   "source": [
    "tokenizer = AutoTokenizer.from_pretrained('antoinelouis/belgpt2')"
   ]
  },
  {
   "cell_type": "code",
   "execution_count": 11,
   "id": "321ff48b",
   "metadata": {},
   "outputs": [],
   "source": [
    "def preprocess_function(examples):\n",
    "    \n",
    "    return tokenizer([x for x in examples['text']], truncation=False)"
   ]
  },
  {
   "cell_type": "code",
   "execution_count": 12,
   "id": "7b55b310",
   "metadata": {},
   "outputs": [
    {
     "name": "stdout",
     "output_type": "stream",
     "text": [
      "                        "
     ]
    },
    {
     "data": {
      "application/vnd.jupyter.widget-view+json": {
       "model_id": "4bbe0889ba884c28bcf0216bd8252333",
       "version_major": 2,
       "version_minor": 0
      },
      "text/plain": [
       "#0:   0%|          | 0/1 [00:00<?, ?ba/s]"
      ]
     },
     "metadata": {},
     "output_type": "display_data"
    },
    {
     "data": {
      "application/vnd.jupyter.widget-view+json": {
       "model_id": "9c72107d41e04138ac2d708b292c1bfc",
       "version_major": 2,
       "version_minor": 0
      },
      "text/plain": [
       "#2:   0%|          | 0/1 [00:00<?, ?ba/s]"
      ]
     },
     "metadata": {},
     "output_type": "display_data"
    },
    {
     "data": {
      "application/vnd.jupyter.widget-view+json": {
       "model_id": "58650fce555441038a18ac14cfa3e8c8",
       "version_major": 2,
       "version_minor": 0
      },
      "text/plain": [
       "#4:   0%|          | 0/1 [00:00<?, ?ba/s]"
      ]
     },
     "metadata": {},
     "output_type": "display_data"
    },
    {
     "data": {
      "application/vnd.jupyter.widget-view+json": {
       "model_id": "6d3ca1563d194b5bac8f8a43c5280a67",
       "version_major": 2,
       "version_minor": 0
      },
      "text/plain": [
       "#1:   0%|          | 0/1 [00:00<?, ?ba/s]"
      ]
     },
     "metadata": {},
     "output_type": "display_data"
    },
    {
     "data": {
      "application/vnd.jupyter.widget-view+json": {
       "model_id": "092217d503424f82ad7b38af07f39a69",
       "version_major": 2,
       "version_minor": 0
      },
      "text/plain": [
       "#3:   0%|          | 0/1 [00:00<?, ?ba/s]"
      ]
     },
     "metadata": {},
     "output_type": "display_data"
    },
    {
     "data": {
      "application/vnd.jupyter.widget-view+json": {
       "model_id": "05cb292a2c3d47539211ec1681e68772",
       "version_major": 2,
       "version_minor": 0
      },
      "text/plain": [
       "#5:   0%|          | 0/1 [00:00<?, ?ba/s]"
      ]
     },
     "metadata": {},
     "output_type": "display_data"
    },
    {
     "data": {
      "application/vnd.jupyter.widget-view+json": {
       "model_id": "39d8f1bc92e4412086d8d20961fed770",
       "version_major": 2,
       "version_minor": 0
      },
      "text/plain": [
       "#8:   0%|          | 0/1 [00:00<?, ?ba/s]"
      ]
     },
     "metadata": {},
     "output_type": "display_data"
    },
    {
     "data": {
      "application/vnd.jupyter.widget-view+json": {
       "model_id": "ec18dcf624ac4275b6254072b7f826dd",
       "version_major": 2,
       "version_minor": 0
      },
      "text/plain": [
       "#6:   0%|          | 0/1 [00:00<?, ?ba/s]"
      ]
     },
     "metadata": {},
     "output_type": "display_data"
    },
    {
     "data": {
      "application/vnd.jupyter.widget-view+json": {
       "model_id": "a23d83ab8d174b3b820313f8534d8a7f",
       "version_major": 2,
       "version_minor": 0
      },
      "text/plain": [
       "#7:   0%|          | 0/1 [00:00<?, ?ba/s]"
      ]
     },
     "metadata": {},
     "output_type": "display_data"
    },
    {
     "data": {
      "application/vnd.jupyter.widget-view+json": {
       "model_id": "ec321bbbba794965b549385c26603891",
       "version_major": 2,
       "version_minor": 0
      },
      "text/plain": [
       "#10:   0%|          | 0/1 [00:00<?, ?ba/s]"
      ]
     },
     "metadata": {},
     "output_type": "display_data"
    },
    {
     "data": {
      "application/vnd.jupyter.widget-view+json": {
       "model_id": "eba53f53fa91437b90677be317fbdc4e",
       "version_major": 2,
       "version_minor": 0
      },
      "text/plain": [
       "#11:   0%|          | 0/1 [00:00<?, ?ba/s]"
      ]
     },
     "metadata": {},
     "output_type": "display_data"
    },
    {
     "data": {
      "application/vnd.jupyter.widget-view+json": {
       "model_id": "20179defae6243ebb79253c69eb0c977",
       "version_major": 2,
       "version_minor": 0
      },
      "text/plain": [
       "#9:   0%|          | 0/1 [00:00<?, ?ba/s]"
      ]
     },
     "metadata": {},
     "output_type": "display_data"
    },
    {
     "name": "stdout",
     "output_type": "stream",
     "text": [
      "                        "
     ]
    },
    {
     "data": {
      "application/vnd.jupyter.widget-view+json": {
       "model_id": "e24c20e1578f474db2c60f8dd8a17283",
       "version_major": 2,
       "version_minor": 0
      },
      "text/plain": [
       "#6:   0%|          | 0/1 [00:00<?, ?ba/s]"
      ]
     },
     "metadata": {},
     "output_type": "display_data"
    },
    {
     "data": {
      "application/vnd.jupyter.widget-view+json": {
       "model_id": "9273d4e0f1854b0d8f3b3a38dc3fbb60",
       "version_major": 2,
       "version_minor": 0
      },
      "text/plain": [
       "#2:   0%|          | 0/1 [00:00<?, ?ba/s]"
      ]
     },
     "metadata": {},
     "output_type": "display_data"
    },
    {
     "data": {
      "application/vnd.jupyter.widget-view+json": {
       "model_id": "e1820ddcefd4459cb93f37c80a2ba671",
       "version_major": 2,
       "version_minor": 0
      },
      "text/plain": [
       "#1:   0%|          | 0/1 [00:00<?, ?ba/s]"
      ]
     },
     "metadata": {},
     "output_type": "display_data"
    },
    {
     "data": {
      "application/vnd.jupyter.widget-view+json": {
       "model_id": "baf64cace33e4bab948a8a4d14b6489c",
       "version_major": 2,
       "version_minor": 0
      },
      "text/plain": [
       "#0:   0%|          | 0/1 [00:00<?, ?ba/s]"
      ]
     },
     "metadata": {},
     "output_type": "display_data"
    },
    {
     "data": {
      "application/vnd.jupyter.widget-view+json": {
       "model_id": "7598b098b2dc4ae4908f994a218b235d",
       "version_major": 2,
       "version_minor": 0
      },
      "text/plain": [
       "#4:   0%|          | 0/1 [00:00<?, ?ba/s]"
      ]
     },
     "metadata": {},
     "output_type": "display_data"
    },
    {
     "data": {
      "application/vnd.jupyter.widget-view+json": {
       "model_id": "693fd06fa60442199abf24724f3a79fa",
       "version_major": 2,
       "version_minor": 0
      },
      "text/plain": [
       "#3:   0%|          | 0/1 [00:00<?, ?ba/s]"
      ]
     },
     "metadata": {},
     "output_type": "display_data"
    },
    {
     "data": {
      "application/vnd.jupyter.widget-view+json": {
       "model_id": "e04f7c697e6b41d7ac49db5ca0a8391a",
       "version_major": 2,
       "version_minor": 0
      },
      "text/plain": [
       "#5:   0%|          | 0/1 [00:00<?, ?ba/s]"
      ]
     },
     "metadata": {},
     "output_type": "display_data"
    },
    {
     "data": {
      "application/vnd.jupyter.widget-view+json": {
       "model_id": "00d2016bf9ee4425ac1b648e69c4f138",
       "version_major": 2,
       "version_minor": 0
      },
      "text/plain": [
       "#7:   0%|          | 0/1 [00:00<?, ?ba/s]"
      ]
     },
     "metadata": {},
     "output_type": "display_data"
    },
    {
     "data": {
      "application/vnd.jupyter.widget-view+json": {
       "model_id": "c21cbdb18b964f80960735fa1b1a8e44",
       "version_major": 2,
       "version_minor": 0
      },
      "text/plain": [
       "#8:   0%|          | 0/1 [00:00<?, ?ba/s]"
      ]
     },
     "metadata": {},
     "output_type": "display_data"
    },
    {
     "data": {
      "application/vnd.jupyter.widget-view+json": {
       "model_id": "74b85a9b88694be29d41da5e7257f420",
       "version_major": 2,
       "version_minor": 0
      },
      "text/plain": [
       "#9:   0%|          | 0/1 [00:00<?, ?ba/s]"
      ]
     },
     "metadata": {},
     "output_type": "display_data"
    },
    {
     "data": {
      "application/vnd.jupyter.widget-view+json": {
       "model_id": "9f9fd5a8afe3437a889105402c5cc7d3",
       "version_major": 2,
       "version_minor": 0
      },
      "text/plain": [
       "#10:   0%|          | 0/1 [00:00<?, ?ba/s]"
      ]
     },
     "metadata": {},
     "output_type": "display_data"
    },
    {
     "data": {
      "application/vnd.jupyter.widget-view+json": {
       "model_id": "7e12aa98f24b462a82d68624271fee9d",
       "version_major": 2,
       "version_minor": 0
      },
      "text/plain": [
       "#11:   0%|          | 0/1 [00:00<?, ?ba/s]"
      ]
     },
     "metadata": {},
     "output_type": "display_data"
    }
   ],
   "source": [
    "tokenized_dataset = dataset.map(\n",
    "\n",
    "    preprocess_function,\n",
    "\n",
    "    batched=True,\n",
    "\n",
    "    num_proc=12,\n",
    "\n",
    "    remove_columns = dataset[\"train\"].column_names,\n",
    "\n",
    ")"
   ]
  },
  {
   "cell_type": "code",
   "execution_count": 13,
   "id": "7ee7223f",
   "metadata": {},
   "outputs": [
    {
     "name": "stdout",
     "output_type": "stream",
     "text": [
      "DatasetDict({\n",
      "    train: Dataset({\n",
      "        features: ['input_ids', 'attention_mask'],\n",
      "        num_rows: 71\n",
      "    })\n",
      "    test: Dataset({\n",
      "        features: ['input_ids', 'attention_mask'],\n",
      "        num_rows: 18\n",
      "    })\n",
      "})\n"
     ]
    }
   ],
   "source": [
    "print(tokenized_dataset)"
   ]
  },
  {
   "cell_type": "code",
   "execution_count": 14,
   "id": "12e5e38e",
   "metadata": {},
   "outputs": [],
   "source": [
    "block_size = 1024\n",
    "\n",
    "def group_texts(examples):\n",
    "\n",
    "    concatenated_examples = {k: sum(examples[k], []) for k in examples.keys()}\n",
    "\n",
    "    total_length = len(concatenated_examples[list(examples.keys())[0]])\n",
    "    total_length = (total_length // block_size) * block_size\n",
    "\n",
    "    result = {\n",
    "\n",
    "        k: [t[i : i + block_size] for i in range(0, total_length, block_size)]\n",
    "\n",
    "        for k, t in concatenated_examples.items()\n",
    "\n",
    "    }\n",
    "\n",
    "    result[\"labels\"] = result[\"input_ids\"].copy()\n",
    "\n",
    "    return result"
   ]
  },
  {
   "cell_type": "code",
   "execution_count": 15,
   "id": "ec8b858f",
   "metadata": {},
   "outputs": [
    {
     "name": "stdout",
     "output_type": "stream",
     "text": [
      "                        "
     ]
    },
    {
     "data": {
      "application/vnd.jupyter.widget-view+json": {
       "model_id": "ac744612ba1c40639d4d46f0aa085df2",
       "version_major": 2,
       "version_minor": 0
      },
      "text/plain": [
       "#1:   0%|          | 0/1 [00:00<?, ?ba/s]"
      ]
     },
     "metadata": {},
     "output_type": "display_data"
    },
    {
     "data": {
      "application/vnd.jupyter.widget-view+json": {
       "model_id": "875ef1a7391344a48437faeb1f1e0de8",
       "version_major": 2,
       "version_minor": 0
      },
      "text/plain": [
       "#0:   0%|          | 0/1 [00:00<?, ?ba/s]"
      ]
     },
     "metadata": {},
     "output_type": "display_data"
    },
    {
     "data": {
      "application/vnd.jupyter.widget-view+json": {
       "model_id": "533c91fc3dcc45bf84811fbad2722b38",
       "version_major": 2,
       "version_minor": 0
      },
      "text/plain": [
       "#2:   0%|          | 0/1 [00:00<?, ?ba/s]"
      ]
     },
     "metadata": {},
     "output_type": "display_data"
    },
    {
     "data": {
      "application/vnd.jupyter.widget-view+json": {
       "model_id": "1ea0a16d334744db8fd08a49b3313c67",
       "version_major": 2,
       "version_minor": 0
      },
      "text/plain": [
       "#4:   0%|          | 0/1 [00:00<?, ?ba/s]"
      ]
     },
     "metadata": {},
     "output_type": "display_data"
    },
    {
     "data": {
      "application/vnd.jupyter.widget-view+json": {
       "model_id": "b819bfef736942e491c9038bb676054d",
       "version_major": 2,
       "version_minor": 0
      },
      "text/plain": [
       "#3:   0%|          | 0/1 [00:00<?, ?ba/s]"
      ]
     },
     "metadata": {},
     "output_type": "display_data"
    },
    {
     "data": {
      "application/vnd.jupyter.widget-view+json": {
       "model_id": "c9457540fe0241bb89285c598dc966af",
       "version_major": 2,
       "version_minor": 0
      },
      "text/plain": [
       "#5:   0%|          | 0/1 [00:00<?, ?ba/s]"
      ]
     },
     "metadata": {},
     "output_type": "display_data"
    },
    {
     "data": {
      "application/vnd.jupyter.widget-view+json": {
       "model_id": "da644a113fae463f9d6fb3968a59b40a",
       "version_major": 2,
       "version_minor": 0
      },
      "text/plain": [
       "#8:   0%|          | 0/1 [00:00<?, ?ba/s]"
      ]
     },
     "metadata": {},
     "output_type": "display_data"
    },
    {
     "data": {
      "application/vnd.jupyter.widget-view+json": {
       "model_id": "6e0ba7e1c59a4c68a8dd7846e28de014",
       "version_major": 2,
       "version_minor": 0
      },
      "text/plain": [
       "#7:   0%|          | 0/1 [00:00<?, ?ba/s]"
      ]
     },
     "metadata": {},
     "output_type": "display_data"
    },
    {
     "data": {
      "application/vnd.jupyter.widget-view+json": {
       "model_id": "45500faa3d994a3f922d59301a4e37b0",
       "version_major": 2,
       "version_minor": 0
      },
      "text/plain": [
       "#6:   0%|          | 0/1 [00:00<?, ?ba/s]"
      ]
     },
     "metadata": {},
     "output_type": "display_data"
    },
    {
     "data": {
      "application/vnd.jupyter.widget-view+json": {
       "model_id": "a973bff06b1543bea9825d55dc3bf96d",
       "version_major": 2,
       "version_minor": 0
      },
      "text/plain": [
       "#10:   0%|          | 0/1 [00:00<?, ?ba/s]"
      ]
     },
     "metadata": {},
     "output_type": "display_data"
    },
    {
     "data": {
      "application/vnd.jupyter.widget-view+json": {
       "model_id": "5bead90c8edd44cda95580357d1958a4",
       "version_major": 2,
       "version_minor": 0
      },
      "text/plain": [
       "#9:   0%|          | 0/1 [00:00<?, ?ba/s]"
      ]
     },
     "metadata": {},
     "output_type": "display_data"
    },
    {
     "data": {
      "application/vnd.jupyter.widget-view+json": {
       "model_id": "53cde1a21f274889a85a5f21e57f9c6d",
       "version_major": 2,
       "version_minor": 0
      },
      "text/plain": [
       "#11:   0%|          | 0/1 [00:00<?, ?ba/s]"
      ]
     },
     "metadata": {},
     "output_type": "display_data"
    },
    {
     "name": "stdout",
     "output_type": "stream",
     "text": [
      "                        "
     ]
    },
    {
     "data": {
      "application/vnd.jupyter.widget-view+json": {
       "model_id": "212d1990f54a4172814bc7461ee6bc9d",
       "version_major": 2,
       "version_minor": 0
      },
      "text/plain": [
       "#0:   0%|          | 0/1 [00:00<?, ?ba/s]"
      ]
     },
     "metadata": {},
     "output_type": "display_data"
    },
    {
     "data": {
      "application/vnd.jupyter.widget-view+json": {
       "model_id": "9794ad10402646ec8ca2add2cb4d3e58",
       "version_major": 2,
       "version_minor": 0
      },
      "text/plain": [
       "#2:   0%|          | 0/1 [00:00<?, ?ba/s]"
      ]
     },
     "metadata": {},
     "output_type": "display_data"
    },
    {
     "data": {
      "application/vnd.jupyter.widget-view+json": {
       "model_id": "b87bc8a8cafa4688b8af48edbb7b71cb",
       "version_major": 2,
       "version_minor": 0
      },
      "text/plain": [
       "#1:   0%|          | 0/1 [00:00<?, ?ba/s]"
      ]
     },
     "metadata": {},
     "output_type": "display_data"
    },
    {
     "data": {
      "application/vnd.jupyter.widget-view+json": {
       "model_id": "dfbbad472f2c44c1b4e2b61dbb85b695",
       "version_major": 2,
       "version_minor": 0
      },
      "text/plain": [
       "#5:   0%|          | 0/1 [00:00<?, ?ba/s]"
      ]
     },
     "metadata": {},
     "output_type": "display_data"
    },
    {
     "data": {
      "application/vnd.jupyter.widget-view+json": {
       "model_id": "f838164dcfa2482396cc6d87c5d12669",
       "version_major": 2,
       "version_minor": 0
      },
      "text/plain": [
       "#4:   0%|          | 0/1 [00:00<?, ?ba/s]"
      ]
     },
     "metadata": {},
     "output_type": "display_data"
    },
    {
     "data": {
      "application/vnd.jupyter.widget-view+json": {
       "model_id": "5fa44f1de3c6428e988ff202bb3f7f7c",
       "version_major": 2,
       "version_minor": 0
      },
      "text/plain": [
       "#3:   0%|          | 0/1 [00:00<?, ?ba/s]"
      ]
     },
     "metadata": {},
     "output_type": "display_data"
    },
    {
     "data": {
      "application/vnd.jupyter.widget-view+json": {
       "model_id": "1038ab3432364f0bb8f9083a4b0b7de4",
       "version_major": 2,
       "version_minor": 0
      },
      "text/plain": [
       "#6:   0%|          | 0/1 [00:00<?, ?ba/s]"
      ]
     },
     "metadata": {},
     "output_type": "display_data"
    },
    {
     "data": {
      "application/vnd.jupyter.widget-view+json": {
       "model_id": "fe7cf6012e004986a46085967bbcc8da",
       "version_major": 2,
       "version_minor": 0
      },
      "text/plain": [
       "#7:   0%|          | 0/1 [00:00<?, ?ba/s]"
      ]
     },
     "metadata": {},
     "output_type": "display_data"
    },
    {
     "data": {
      "application/vnd.jupyter.widget-view+json": {
       "model_id": "f85ca201450c4900a399532c21d51c0b",
       "version_major": 2,
       "version_minor": 0
      },
      "text/plain": [
       "#10:   0%|          | 0/1 [00:00<?, ?ba/s]"
      ]
     },
     "metadata": {},
     "output_type": "display_data"
    },
    {
     "data": {
      "application/vnd.jupyter.widget-view+json": {
       "model_id": "f0104330ffdd447f9ce77b9f7a68b302",
       "version_major": 2,
       "version_minor": 0
      },
      "text/plain": [
       "#8:   0%|          | 0/1 [00:00<?, ?ba/s]"
      ]
     },
     "metadata": {},
     "output_type": "display_data"
    },
    {
     "data": {
      "application/vnd.jupyter.widget-view+json": {
       "model_id": "df1ffc503df7415eb808a19347031e02",
       "version_major": 2,
       "version_minor": 0
      },
      "text/plain": [
       "#9:   0%|          | 0/1 [00:00<?, ?ba/s]"
      ]
     },
     "metadata": {},
     "output_type": "display_data"
    },
    {
     "data": {
      "application/vnd.jupyter.widget-view+json": {
       "model_id": "2bd16ddba2c54fc291fb8aeaa7c039f3",
       "version_major": 2,
       "version_minor": 0
      },
      "text/plain": [
       "#11:   0%|          | 0/1 [00:00<?, ?ba/s]"
      ]
     },
     "metadata": {},
     "output_type": "display_data"
    }
   ],
   "source": [
    "lm_dataset = tokenized_dataset.map(group_texts, batched=True, num_proc=12)"
   ]
  },
  {
   "cell_type": "code",
   "execution_count": 16,
   "id": "b5b619f9",
   "metadata": {},
   "outputs": [
    {
     "name": "stdout",
     "output_type": "stream",
     "text": [
      "DatasetDict({\n",
      "    train: Dataset({\n",
      "        features: ['input_ids', 'attention_mask', 'labels'],\n",
      "        num_rows: 102\n",
      "    })\n",
      "    test: Dataset({\n",
      "        features: ['input_ids', 'attention_mask', 'labels'],\n",
      "        num_rows: 25\n",
      "    })\n",
      "})\n"
     ]
    }
   ],
   "source": [
    "print(lm_dataset)"
   ]
  },
  {
   "cell_type": "code",
   "execution_count": 17,
   "id": "574ce86a",
   "metadata": {},
   "outputs": [],
   "source": [
    "tokenizer.pad_token = tokenizer.eos_token\n",
    "data_collator = DataCollatorForLanguageModeling(tokenizer=tokenizer, mlm=False)"
   ]
  },
  {
   "cell_type": "markdown",
   "id": "32734bea",
   "metadata": {},
   "source": [
    "# Training"
   ]
  },
  {
   "cell_type": "code",
   "execution_count": 18,
   "id": "774ac700",
   "metadata": {},
   "outputs": [],
   "source": [
    "model = AutoModelForCausalLM.from_pretrained('antoinelouis/belgpt2')"
   ]
  },
  {
   "cell_type": "code",
   "execution_count": 19,
   "id": "b89b0730",
   "metadata": {},
   "outputs": [],
   "source": [
    "training_args = TrainingArguments(\n",
    "\n",
    "    output_dir=\"CharlesDeGaulle-GPT\",\n",
    "    evaluation_strategy=\"epoch\",\n",
    "    learning_rate=2e-5,\n",
    "    weight_decay=0.01,\n",
    "    push_to_hub=True,\n",
    "    num_train_epochs=8,\n",
    "    per_device_eval_batch_size=4,\n",
    "    per_device_train_batch_size=4\n",
    ")"
   ]
  },
  {
   "cell_type": "code",
   "execution_count": 20,
   "id": "cca2f665",
   "metadata": {},
   "outputs": [
    {
     "name": "stderr",
     "output_type": "stream",
     "text": [
      "/home/thomaslemenestrel/Documents/charles_de_gaulle_speeches/charles_de_gaulle_speeches/CharlesDeGaulle-GPT is already a clone of https://huggingface.co/tlemenestrel/CharlesDeGaulle-GPT. Make sure you pull the latest changes with `repo.git_pull()`.\n",
      "/home/thomaslemenestrel/miniconda3/envs/cdg/lib/python3.10/site-packages/transformers/optimization.py:306: FutureWarning: This implementation of AdamW is deprecated and will be removed in a future version. Use the PyTorch implementation torch.optim.AdamW instead, or set `no_deprecation_warning=True` to disable this warning\n",
      "  warnings.warn(\n",
      "***** Running training *****\n",
      "  Num examples = 102\n",
      "  Num Epochs = 8\n",
      "  Instantaneous batch size per device = 4\n",
      "  Total train batch size (w. parallel, distributed & accumulation) = 4\n",
      "  Gradient Accumulation steps = 1\n",
      "  Total optimization steps = 208\n"
     ]
    },
    {
     "data": {
      "text/html": [
       "\n",
       "    <div>\n",
       "      \n",
       "      <progress value='208' max='208' style='width:300px; height:20px; vertical-align: middle;'></progress>\n",
       "      [208/208 01:17, Epoch 8/8]\n",
       "    </div>\n",
       "    <table border=\"1\" class=\"dataframe\">\n",
       "  <thead>\n",
       " <tr style=\"text-align: left;\">\n",
       "      <th>Epoch</th>\n",
       "      <th>Training Loss</th>\n",
       "      <th>Validation Loss</th>\n",
       "    </tr>\n",
       "  </thead>\n",
       "  <tbody>\n",
       "    <tr>\n",
       "      <td>1</td>\n",
       "      <td>No log</td>\n",
       "      <td>2.993861</td>\n",
       "    </tr>\n",
       "    <tr>\n",
       "      <td>2</td>\n",
       "      <td>No log</td>\n",
       "      <td>2.764109</td>\n",
       "    </tr>\n",
       "    <tr>\n",
       "      <td>3</td>\n",
       "      <td>No log</td>\n",
       "      <td>2.662133</td>\n",
       "    </tr>\n",
       "    <tr>\n",
       "      <td>4</td>\n",
       "      <td>No log</td>\n",
       "      <td>2.612947</td>\n",
       "    </tr>\n",
       "    <tr>\n",
       "      <td>5</td>\n",
       "      <td>No log</td>\n",
       "      <td>2.589722</td>\n",
       "    </tr>\n",
       "    <tr>\n",
       "      <td>6</td>\n",
       "      <td>No log</td>\n",
       "      <td>2.572188</td>\n",
       "    </tr>\n",
       "    <tr>\n",
       "      <td>7</td>\n",
       "      <td>No log</td>\n",
       "      <td>2.563035</td>\n",
       "    </tr>\n",
       "    <tr>\n",
       "      <td>8</td>\n",
       "      <td>No log</td>\n",
       "      <td>2.561931</td>\n",
       "    </tr>\n",
       "  </tbody>\n",
       "</table><p>"
      ],
      "text/plain": [
       "<IPython.core.display.HTML object>"
      ]
     },
     "metadata": {},
     "output_type": "display_data"
    },
    {
     "name": "stderr",
     "output_type": "stream",
     "text": [
      "***** Running Evaluation *****\n",
      "  Num examples = 25\n",
      "  Batch size = 4\n",
      "***** Running Evaluation *****\n",
      "  Num examples = 25\n",
      "  Batch size = 4\n",
      "***** Running Evaluation *****\n",
      "  Num examples = 25\n",
      "  Batch size = 4\n",
      "***** Running Evaluation *****\n",
      "  Num examples = 25\n",
      "  Batch size = 4\n",
      "***** Running Evaluation *****\n",
      "  Num examples = 25\n",
      "  Batch size = 4\n",
      "***** Running Evaluation *****\n",
      "  Num examples = 25\n",
      "  Batch size = 4\n",
      "***** Running Evaluation *****\n",
      "  Num examples = 25\n",
      "  Batch size = 4\n",
      "***** Running Evaluation *****\n",
      "  Num examples = 25\n",
      "  Batch size = 4\n",
      "\n",
      "\n",
      "Training completed. Do not forget to share your model on huggingface.co/models =)\n",
      "\n",
      "\n"
     ]
    },
    {
     "name": "stdout",
     "output_type": "stream",
     "text": [
      "Time: 78.25\n",
      "Samples/second: 10.43\n",
      "GPU memory occupied: 15995 MB.\n"
     ]
    }
   ],
   "source": [
    "trainer = Trainer(\n",
    "\n",
    "    model=model,\n",
    "\n",
    "    args=training_args,\n",
    "\n",
    "    train_dataset=lm_dataset[\"train\"],\n",
    "\n",
    "    eval_dataset=lm_dataset[\"test\"],\n",
    "\n",
    "    data_collator=data_collator\n",
    "\n",
    ")\n",
    "\n",
    "result = trainer.train()\n",
    "print_summary(result)"
   ]
  },
  {
   "cell_type": "markdown",
   "id": "b4462411",
   "metadata": {},
   "source": [
    "### Save to the hub"
   ]
  },
  {
   "cell_type": "code",
   "execution_count": null,
   "id": "1c85c7cc",
   "metadata": {},
   "outputs": [
    {
     "name": "stderr",
     "output_type": "stream",
     "text": [
      "Saving model checkpoint to CharlesDeGaulle-GPT\n",
      "Configuration saved in CharlesDeGaulle-GPT/config.json\n",
      "Model weights saved in CharlesDeGaulle-GPT/pytorch_model.bin\n",
      "Several commits (4) will be pushed upstream.\n",
      "The progress bars may be unreliable.\n"
     ]
    },
    {
     "data": {
      "application/vnd.jupyter.widget-view+json": {
       "model_id": "387dd9bf912345478a8f8ea3c80675bf",
       "version_major": 2,
       "version_minor": 0
      },
      "text/plain": [
       "Upload file pytorch_model.bin:   0%|          | 32.0k/487M [00:00<?, ?B/s]"
      ]
     },
     "metadata": {},
     "output_type": "display_data"
    },
    {
     "data": {
      "application/vnd.jupyter.widget-view+json": {
       "model_id": "3c768861e7a84671b2d3ef8ed727cb62",
       "version_major": 2,
       "version_minor": 0
      },
      "text/plain": [
       "Upload file runs/Jan16_17-22-21_pop-os/events.out.tfevents.1673889746.pop-os: 100%|##########| 6.96k/6.96k [00…"
      ]
     },
     "metadata": {},
     "output_type": "display_data"
    },
    {
     "data": {
      "application/vnd.jupyter.widget-view+json": {
       "model_id": "041fbeefde3d4b34a0e8298f6189f6d2",
       "version_major": 2,
       "version_minor": 0
      },
      "text/plain": [
       "Upload file runs/Jan16_17-24-31_pop-os/events.out.tfevents.1673889875.pop-os: 100%|##########| 6.96k/6.96k [00…"
      ]
     },
     "metadata": {},
     "output_type": "display_data"
    },
    {
     "data": {
      "application/vnd.jupyter.widget-view+json": {
       "model_id": "fdb04c5c594645bfbbc07ab4f0fa5ec8",
       "version_major": 2,
       "version_minor": 0
      },
      "text/plain": [
       "Upload file runs/Jan16_17-41-39_pop-os/events.out.tfevents.1673890903.pop-os: 100%|##########| 6.96k/6.96k [00…"
      ]
     },
     "metadata": {},
     "output_type": "display_data"
    },
    {
     "data": {
      "application/vnd.jupyter.widget-view+json": {
       "model_id": "164610d2f3624c949586f9746e841d1e",
       "version_major": 2,
       "version_minor": 0
      },
      "text/plain": [
       "Upload file runs/Jan16_17-01-18_pop-os/events.out.tfevents.1673888482.pop-os: 100%|##########| 14.2k/14.2k [00…"
      ]
     },
     "metadata": {},
     "output_type": "display_data"
    },
    {
     "data": {
      "application/vnd.jupyter.widget-view+json": {
       "model_id": "cad3288bbe004e15aeb2e08a0bd2cef1",
       "version_major": 2,
       "version_minor": 0
      },
      "text/plain": [
       "Upload file runs/Jan16_17-38-42_pop-os/events.out.tfevents.1673890726.pop-os: 100%|##########| 6.96k/6.96k [00…"
      ]
     },
     "metadata": {},
     "output_type": "display_data"
    },
    {
     "data": {
      "application/vnd.jupyter.widget-view+json": {
       "model_id": "9c139c6e8e5642fdbd3692f3b736a6c4",
       "version_major": 2,
       "version_minor": 0
      },
      "text/plain": [
       "Upload file runs/Jan16_17-09-37_pop-os/events.out.tfevents.1673888981.pop-os: 100%|##########| 6.96k/6.96k [00…"
      ]
     },
     "metadata": {},
     "output_type": "display_data"
    },
    {
     "data": {
      "application/vnd.jupyter.widget-view+json": {
       "model_id": "c34965a48b5142e98245e2d0f933b8c6",
       "version_major": 2,
       "version_minor": 0
      },
      "text/plain": [
       "Upload file runs/Jan16_17-45-44_pop-os/events.out.tfevents.1673891149.pop-os: 100%|##########| 6.96k/6.96k [00…"
      ]
     },
     "metadata": {},
     "output_type": "display_data"
    },
    {
     "data": {
      "application/vnd.jupyter.widget-view+json": {
       "model_id": "1c30e2c473ce433596d6708c5ced46cd",
       "version_major": 2,
       "version_minor": 0
      },
      "text/plain": [
       "Upload file runs/Jan16_17-26-59_pop-os/events.out.tfevents.1673890024.pop-os: 100%|##########| 6.96k/6.96k [00…"
      ]
     },
     "metadata": {},
     "output_type": "display_data"
    },
    {
     "data": {
      "application/vnd.jupyter.widget-view+json": {
       "model_id": "10521a70508b4b44bc2f29620aedd72b",
       "version_major": 2,
       "version_minor": 0
      },
      "text/plain": [
       "Upload file runs/Jan16_17-06-43_pop-os/events.out.tfevents.1673888807.pop-os: 100%|##########| 6.96k/6.96k [00…"
      ]
     },
     "metadata": {},
     "output_type": "display_data"
    },
    {
     "data": {
      "application/vnd.jupyter.widget-view+json": {
       "model_id": "c8d890e5797f4c2fa3bfd6f3d3a08586",
       "version_major": 2,
       "version_minor": 0
      },
      "text/plain": [
       "Upload file runs/Jan16_17-34-26_pop-os/events.out.tfevents.1673890471.pop-os: 100%|##########| 6.94k/6.94k [00…"
      ]
     },
     "metadata": {},
     "output_type": "display_data"
    },
    {
     "data": {
      "application/vnd.jupyter.widget-view+json": {
       "model_id": "b9d248c867184ebaa1607a2b6487acd5",
       "version_major": 2,
       "version_minor": 0
      },
      "text/plain": [
       "Upload file runs/Jan16_17-51-39_pop-os/events.out.tfevents.1673891503.pop-os: 100%|##########| 6.64k/6.64k [00…"
      ]
     },
     "metadata": {},
     "output_type": "display_data"
    },
    {
     "data": {
      "application/vnd.jupyter.widget-view+json": {
       "model_id": "509956f356fc41d5b33c53da8a6b171e",
       "version_major": 2,
       "version_minor": 0
      },
      "text/plain": [
       "Upload file runs/Jan16_17-53-52_pop-os/events.out.tfevents.1673891636.pop-os: 100%|##########| 6.19k/6.19k [00…"
      ]
     },
     "metadata": {},
     "output_type": "display_data"
    },
    {
     "data": {
      "application/vnd.jupyter.widget-view+json": {
       "model_id": "0cde027590d84947838985acda1cfb05",
       "version_major": 2,
       "version_minor": 0
      },
      "text/plain": [
       "Upload file runs/Jan16_17-51-39_pop-os/1673891503.643478/events.out.tfevents.1673891503.pop-os: 100%|#########…"
      ]
     },
     "metadata": {},
     "output_type": "display_data"
    },
    {
     "data": {
      "application/vnd.jupyter.widget-view+json": {
       "model_id": "065543ada95e40b0bec9e922c3773a3d",
       "version_major": 2,
       "version_minor": 0
      },
      "text/plain": [
       "Upload file runs/Jan16_17-06-43_pop-os/1673888807.6749291/events.out.tfevents.1673888807.pop-os: 100%|########…"
      ]
     },
     "metadata": {},
     "output_type": "display_data"
    },
    {
     "data": {
      "application/vnd.jupyter.widget-view+json": {
       "model_id": "046d6c3bfa804eb882342dfb6c5c5840",
       "version_major": 2,
       "version_minor": 0
      },
      "text/plain": [
       "Upload file runs/Jan16_17-09-37_pop-os/1673888981.895866/events.out.tfevents.1673888981.pop-os: 100%|#########…"
      ]
     },
     "metadata": {},
     "output_type": "display_data"
    },
    {
     "data": {
      "application/vnd.jupyter.widget-view+json": {
       "model_id": "7033ea49aa7843acb1f97326b0461dd1",
       "version_major": 2,
       "version_minor": 0
      },
      "text/plain": [
       "Upload file runs/Jan16_17-16-46_pop-os/1673889411.1423275/events.out.tfevents.1673889411.pop-os: 100%|########…"
      ]
     },
     "metadata": {},
     "output_type": "display_data"
    },
    {
     "data": {
      "application/vnd.jupyter.widget-view+json": {
       "model_id": "c14903bb2a944c9399a02e6f974d6d03",
       "version_major": 2,
       "version_minor": 0
      },
      "text/plain": [
       "Upload file runs/Jan16_17-22-21_pop-os/1673889746.486646/events.out.tfevents.1673889746.pop-os: 100%|#########…"
      ]
     },
     "metadata": {},
     "output_type": "display_data"
    },
    {
     "data": {
      "application/vnd.jupyter.widget-view+json": {
       "model_id": "3d47b6ec9fda424aa71b5593e7445b38",
       "version_major": 2,
       "version_minor": 0
      },
      "text/plain": [
       "Upload file runs/Jan16_17-24-31_pop-os/1673889875.849308/events.out.tfevents.1673889875.pop-os: 100%|#########…"
      ]
     },
     "metadata": {},
     "output_type": "display_data"
    },
    {
     "data": {
      "application/vnd.jupyter.widget-view+json": {
       "model_id": "fc4d4b558aa9497daa71b91a0ea66f69",
       "version_major": 2,
       "version_minor": 0
      },
      "text/plain": [
       "Upload file runs/Jan16_17-26-59_pop-os/1673890024.1327515/events.out.tfevents.1673890024.pop-os: 100%|########…"
      ]
     },
     "metadata": {},
     "output_type": "display_data"
    },
    {
     "data": {
      "application/vnd.jupyter.widget-view+json": {
       "model_id": "6b1d9c4988b14d408d24888294f557db",
       "version_major": 2,
       "version_minor": 0
      },
      "text/plain": [
       "Upload file runs/Jan16_17-31-13_pop-os/1673890277.697291/events.out.tfevents.1673890277.pop-os: 100%|#########…"
      ]
     },
     "metadata": {},
     "output_type": "display_data"
    },
    {
     "data": {
      "application/vnd.jupyter.widget-view+json": {
       "model_id": "652b4898118843ab9f207335dea719e7",
       "version_major": 2,
       "version_minor": 0
      },
      "text/plain": [
       "Upload file runs/Jan16_17-33-15_pop-os/1673890400.2220488/events.out.tfevents.1673890400.pop-os: 100%|########…"
      ]
     },
     "metadata": {},
     "output_type": "display_data"
    },
    {
     "data": {
      "application/vnd.jupyter.widget-view+json": {
       "model_id": "001e121447d84c108a7127a56a9507d6",
       "version_major": 2,
       "version_minor": 0
      },
      "text/plain": [
       "Upload file runs/Jan16_17-53-52_pop-os/1673891636.989779/events.out.tfevents.1673891636.pop-os: 100%|#########…"
      ]
     },
     "metadata": {},
     "output_type": "display_data"
    },
    {
     "data": {
      "application/vnd.jupyter.widget-view+json": {
       "model_id": "4dd5de55eb6443dfbc5f8f67947b985d",
       "version_major": 2,
       "version_minor": 0
      },
      "text/plain": [
       "Upload file runs/Jan16_17-34-26_pop-os/1673890471.4536057/events.out.tfevents.1673890471.pop-os: 100%|########…"
      ]
     },
     "metadata": {},
     "output_type": "display_data"
    },
    {
     "data": {
      "application/vnd.jupyter.widget-view+json": {
       "model_id": "3f45a48aac984662acf333479b0dceb2",
       "version_major": 2,
       "version_minor": 0
      },
      "text/plain": [
       "Upload file runs/Jan16_17-38-42_pop-os/1673890726.8715713/events.out.tfevents.1673890726.pop-os: 100%|########…"
      ]
     },
     "metadata": {},
     "output_type": "display_data"
    },
    {
     "data": {
      "application/vnd.jupyter.widget-view+json": {
       "model_id": "de75f8ab6ffd405f95a62443fd1e54b5",
       "version_major": 2,
       "version_minor": 0
      },
      "text/plain": [
       "Upload file runs/Jan16_17-41-39_pop-os/1673890903.8444293/events.out.tfevents.1673890903.pop-os: 100%|########…"
      ]
     },
     "metadata": {},
     "output_type": "display_data"
    },
    {
     "data": {
      "application/vnd.jupyter.widget-view+json": {
       "model_id": "c03c273e114643b3a92743224a7650bf",
       "version_major": 2,
       "version_minor": 0
      },
      "text/plain": [
       "Upload file runs/Jan16_17-44-28_pop-os/1673891073.429549/events.out.tfevents.1673891073.pop-os: 100%|#########…"
      ]
     },
     "metadata": {},
     "output_type": "display_data"
    },
    {
     "data": {
      "application/vnd.jupyter.widget-view+json": {
       "model_id": "6fcbb308b6f847e494c3cad685f486e9",
       "version_major": 2,
       "version_minor": 0
      },
      "text/plain": [
       "Upload file runs/Jan16_17-45-44_pop-os/1673891149.0631733/events.out.tfevents.1673891149.pop-os: 100%|########…"
      ]
     },
     "metadata": {},
     "output_type": "display_data"
    },
    {
     "data": {
      "application/vnd.jupyter.widget-view+json": {
       "model_id": "7646de31fb604a128a43507e07f76f02",
       "version_major": 2,
       "version_minor": 0
      },
      "text/plain": [
       "Upload file runs/Jan16_17-48-50_pop-os/1673891334.6777077/events.out.tfevents.1673891334.pop-os: 100%|########…"
      ]
     },
     "metadata": {},
     "output_type": "display_data"
    },
    {
     "data": {
      "application/vnd.jupyter.widget-view+json": {
       "model_id": "8732c7da97fb47669e48f96664c11900",
       "version_major": 2,
       "version_minor": 0
      },
      "text/plain": [
       "Upload file runs/Jan16_17-50-06_pop-os/1673891410.9653618/events.out.tfevents.1673891410.pop-os: 100%|########…"
      ]
     },
     "metadata": {},
     "output_type": "display_data"
    },
    {
     "data": {
      "application/vnd.jupyter.widget-view+json": {
       "model_id": "ddb47a71f8374c03820d5060b9a84d07",
       "version_major": 2,
       "version_minor": 0
      },
      "text/plain": [
       "Upload file runs/Jan16_17-33-15_pop-os/events.out.tfevents.1673890400.pop-os: 100%|##########| 3.75k/3.75k [00…"
      ]
     },
     "metadata": {},
     "output_type": "display_data"
    },
    {
     "data": {
      "application/vnd.jupyter.widget-view+json": {
       "model_id": "02414b9dd3a243baa6e5ee97b1d5c188",
       "version_major": 2,
       "version_minor": 0
      },
      "text/plain": [
       "Upload file runs/Jan16_17-31-13_pop-os/events.out.tfevents.1673890277.pop-os: 100%|##########| 3.75k/3.75k [00…"
      ]
     },
     "metadata": {},
     "output_type": "display_data"
    },
    {
     "data": {
      "application/vnd.jupyter.widget-view+json": {
       "model_id": "7f448218e416452f950f0c43f367219d",
       "version_major": 2,
       "version_minor": 0
      },
      "text/plain": [
       "Upload file runs/Jan16_17-16-46_pop-os/events.out.tfevents.1673889411.pop-os: 100%|##########| 3.75k/3.75k [00…"
      ]
     },
     "metadata": {},
     "output_type": "display_data"
    },
    {
     "data": {
      "application/vnd.jupyter.widget-view+json": {
       "model_id": "347ebc80f8d644a09f612a41a61f0c6f",
       "version_major": 2,
       "version_minor": 0
      },
      "text/plain": [
       "Upload file runs/Jan16_17-44-28_pop-os/events.out.tfevents.1673891073.pop-os: 100%|##########| 3.75k/3.75k [00…"
      ]
     },
     "metadata": {},
     "output_type": "display_data"
    },
    {
     "data": {
      "application/vnd.jupyter.widget-view+json": {
       "model_id": "49666bcb7a5b448b9fe74fde6dd3f1a4",
       "version_major": 2,
       "version_minor": 0
      },
      "text/plain": [
       "Upload file runs/Jan16_17-48-50_pop-os/events.out.tfevents.1673891334.pop-os: 100%|##########| 3.75k/3.75k [00…"
      ]
     },
     "metadata": {},
     "output_type": "display_data"
    },
    {
     "data": {
      "application/vnd.jupyter.widget-view+json": {
       "model_id": "440b0a9322664fb8ba1bbbe29152068e",
       "version_major": 2,
       "version_minor": 0
      },
      "text/plain": [
       "Upload file runs/Jan16_17-50-06_pop-os/events.out.tfevents.1673891410.pop-os: 100%|##########| 3.74k/3.74k [00…"
      ]
     },
     "metadata": {},
     "output_type": "display_data"
    },
    {
     "data": {
      "application/vnd.jupyter.widget-view+json": {
       "model_id": "7445c94ede5d4649b55c668c1878c43a",
       "version_major": 2,
       "version_minor": 0
      },
      "text/plain": [
       "Upload file training_args.bin: 100%|##########| 3.23k/3.23k [00:00<?, ?B/s]"
      ]
     },
     "metadata": {},
     "output_type": "display_data"
    }
   ],
   "source": [
    "trainer.push_to_hub()\n",
    "tokenizer.push_to_hub('https://huggingface.co/tlemenestrel/CharlesDeGaulle-GPT')"
   ]
  },
  {
   "cell_type": "markdown",
   "id": "23640e89",
   "metadata": {},
   "source": [
    "# Inference"
   ]
  },
  {
   "cell_type": "code",
   "execution_count": 26,
   "id": "f906b725",
   "metadata": {},
   "outputs": [],
   "source": [
    "prompt = \"Le peuple de France\""
   ]
  },
  {
   "cell_type": "code",
   "execution_count": 27,
   "id": "4a38c9fe",
   "metadata": {},
   "outputs": [],
   "source": [
    "inputs = tokenizer(prompt, return_tensors=\"pt\").input_ids"
   ]
  },
  {
   "cell_type": "code",
   "execution_count": 28,
   "id": "b527fb2f",
   "metadata": {},
   "outputs": [
    {
     "name": "stderr",
     "output_type": "stream",
     "text": [
      "loading configuration file CharlesDeGaulle-GPT/config.json\n",
      "Model config GPT2Config {\n",
      "  \"_name_or_path\": \"CharlesDeGaulle-GPT\",\n",
      "  \"_num_labels\": 2,\n",
      "  \"activation_function\": \"gelu_new\",\n",
      "  \"architectures\": [\n",
      "    \"GPT2LMHeadModel\"\n",
      "  ],\n",
      "  \"attn_pdrop\": 0.1,\n",
      "  \"bos_token_id\": 50256,\n",
      "  \"embd_pdrop\": 0.1,\n",
      "  \"eos_token_id\": 50256,\n",
      "  \"initializer_range\": 0.02,\n",
      "  \"layer_norm_epsilon\": 1e-05,\n",
      "  \"model_type\": \"gpt2\",\n",
      "  \"n_ctx\": 1024,\n",
      "  \"n_embd\": 768,\n",
      "  \"n_head\": 12,\n",
      "  \"n_inner\": null,\n",
      "  \"n_layer\": 12,\n",
      "  \"n_positions\": 1024,\n",
      "  \"output_past\": true,\n",
      "  \"reorder_and_upcast_attn\": false,\n",
      "  \"resid_pdrop\": 0.1,\n",
      "  \"scale_attn_by_inverse_layer_idx\": false,\n",
      "  \"scale_attn_weights\": true,\n",
      "  \"summary_activation\": null,\n",
      "  \"summary_first_dropout\": 0.1,\n",
      "  \"summary_proj_to_labels\": true,\n",
      "  \"summary_type\": \"cls_index\",\n",
      "  \"summary_use_proj\": true,\n",
      "  \"torch_dtype\": \"float32\",\n",
      "  \"transformers_version\": \"4.21.0\",\n",
      "  \"use_cache\": true,\n",
      "  \"vocab_size\": 50257\n",
      "}\n",
      "\n",
      "loading weights file CharlesDeGaulle-GPT/pytorch_model.bin\n",
      "All model checkpoint weights were used when initializing GPT2LMHeadModel.\n",
      "\n",
      "All the weights of GPT2LMHeadModel were initialized from the model checkpoint at CharlesDeGaulle-GPT.\n",
      "If your task is similar to the task the model of the checkpoint was trained on, you can already use GPT2LMHeadModel for predictions without further training.\n",
      "The attention mask and the pad token id were not set. As a consequence, you may observe unexpected behavior. Please pass your input's `attention_mask` to obtain reliable results.\n",
      "Setting `pad_token_id` to `eos_token_id`:50256 for open-end generation.\n"
     ]
    }
   ],
   "source": [
    "from transformers import AutoModelForCausalLM\n",
    "\n",
    "model = AutoModelForCausalLM.from_pretrained(\"CharlesDeGaulle-GPT\")\n",
    "\n",
    "outputs = model.generate(inputs, max_new_tokens=500, do_sample=True, top_k=50, top_p=0.95, min_length=250)"
   ]
  },
  {
   "cell_type": "code",
   "execution_count": 29,
   "id": "16f4cf56",
   "metadata": {},
   "outputs": [
    {
     "data": {
      "text/plain": [
       "[\"Le peuple de France ne cesse  de rappeler l'édifice de Notre-Dame-des-Dames, il y a cent ans, en commémoration de  la délivrance  de  la  Provence  et  de  la  Renaissance  par  l'Alsace.  Que  l'Histoire,  depuis  les  temps  anciens,  a  toujours  su  distinguer  entre  la  belle-mère  de  la  France  et  la  belle-sœur,  entre  la  dame  de  la  famille  royale  et  la  dame  de  l'impérialisme.  Que,  pendant  l'on  passe  quatre  ans,  il  est  venu  des  nations  d'Europe  qui  ont  eu  d'un  génie  français  celui  de  faire  triompher  leur  idéal  dans  le  monde  lointain.  Qu'y eut-il de plus magnifique que la victoire de la France? Que s'est-il  passé  dans  les  veines  de  la  France  qui  ait  permis  à  cette  France,  cette  France,  cette  France,  de  se  redresser !  Qu'il  ait  été  là  pour  nous  apporter  ce  qu'elle  voulait  de  mieux  dans  l'ordre  du  renseignement  -  nous  savons le  dire  -  c'est-à-dire qu'en  moins de deux ans, elle a acquis toutes les compétences et toutes les capacités pour en assurer la direction et le contrôle. Qu'il  ait  été  un  des  premiers  à  avoir  introduit  au  monde  des  machines,  à  avoir  introduit  le  fer,  l'air,  à  avoir  introduit l'énergie atomique,  qu'il  ait  eu  l'héroïque ténacité et  l'important concours de son éminent conseil d'ministère au moment où il s'y consacrait à développer le nucléaire  et  à  diriger  les  pays  d'outremer  tout  entier,  qu'il  ait  toujours  été  un  grand  et  courageux  opposant  au  régime  totalitaire  qu'\"]"
      ]
     },
     "execution_count": 29,
     "metadata": {},
     "output_type": "execute_result"
    }
   ],
   "source": [
    "tokenizer.batch_decode(outputs, skip_special_tokens=True)"
   ]
  }
 ],
 "metadata": {
  "kernelspec": {
   "display_name": "Python 3 (ipykernel)",
   "language": "python",
   "name": "python3"
  },
  "language_info": {
   "codemirror_mode": {
    "name": "ipython",
    "version": 3
   },
   "file_extension": ".py",
   "mimetype": "text/x-python",
   "name": "python",
   "nbconvert_exporter": "python",
   "pygments_lexer": "ipython3",
   "version": "3.10.4"
  }
 },
 "nbformat": 4,
 "nbformat_minor": 5
}
