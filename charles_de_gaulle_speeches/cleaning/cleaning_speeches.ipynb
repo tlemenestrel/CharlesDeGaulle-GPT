{
 "cells": [
  {
   "cell_type": "code",
   "execution_count": 1,
   "id": "5d154925",
   "metadata": {},
   "outputs": [],
   "source": [
    "import glob\n",
    "import spacy\n",
    "import pandas as pd\n",
    "from spacypdfreader import pdf_reader"
   ]
  },
  {
   "cell_type": "code",
   "execution_count": 10,
   "id": "eb14ec8e",
   "metadata": {},
   "outputs": [],
   "source": [
    "nlp = spacy.load('fr_core_news_sm')\n",
    "doc = pdf_reader('../../data/Discours-a-Moscou.pdf', nlp)"
   ]
  },
  {
   "cell_type": "code",
   "execution_count": 15,
   "id": "cf1cf3b2",
   "metadata": {},
   "outputs": [
    {
     "name": "stdout",
     "output_type": "stream",
     "text": [
      "1\n",
      "2\n",
      "../../data/Discours-a-Moscou.pdf\n",
      "(1, 2)\n",
      "1\n",
      "2\n",
      "Discours à Moscou, 30 juin 1966 \n",
      "  \n",
      "Le  général  de  Gaulle  prononce  une  allocution  diffusée  par  la  radio  et  la  télévision \n",
      "soviétiques. \n",
      "  \n",
      "La visite que j'achève de faire à votre pays c'est une visite que la France de toujours rend à \n",
      "la  Russie  de toujours.  Depuis  les  temps  très  lointains  où  naquirent  nos  deux nations,  elles \n",
      "n'ont jamais cessé d'éprouver l'une pour l'autre un intérêt et un attrait tout à fait particuliers. \n",
      "En  France,  les  Russes  ont  toujours  été  très  populaires.  Aussi,  en  venant  vous  voir,  il  m'a \n",
      "semblé, que ma démarche et votre réception étaient inspirées par une considération et une \n",
      "cordialité réciproques, que n'ont brisées, depuis des siècles, ni certains combats d'autrefois, \n",
      "ni  des  différences  de  régime,  ni  des  oppositions  récemment  suscitées  par  la  division  du \n",
      "monde.  Au  contraire,  l'estime  que  nous  nous  portons  a  grandi  a  mesure  des  expériences \n",
      "vécues  et  des  épreuves  traversées.  Voilà  pourquoi,  en  passant  à  Moscou,  à  Novosibirsk,  à \n",
      "Leningrad,  à  Kiev,  à  Volgograd,  en  survolant  vos  plaines,  vos  fleuves,  vos  forêts,  vos \n",
      "montagnes,  en  voyant  près  de  moi  vos  hommes,  vos  femmes,  vos  enfants,  j'étais  rempli \n",
      "d'une émotion qui me venait du fond de l'Histoire. \n",
      "  \n",
      "Cette  émotion,  je la  ressens  au  plus  haut  point en  ce  moment même. Car  me  voici  devant \n",
      "vous  tous  pour  saluer  le  peuple  russe  au  nom  du  peuple  français.  Après  l'immense \n",
      "transformation déclenchée chez vous par votre révolution depuis près de cinquante ans, au \n",
      "prix de sacrifices et d'efforts gigantesques ; puis après le drame terrible que fut pour vous la \n",
      "guerre  gagnée  il  y  a  plus  de  vingt  années  et  dont  la  part  que  vous  y  avez  prise  a  porté \n",
      "l'Union  Soviétique  au  plus  haut  degré  de  la  puissance  et  de  la  gloire  ;  enfin,  après  votre \n",
      "reconstruction  succédant  à  tant  de  ravages,  nous  vous  voyons  vivants,  pleins  de  ressort, \n",
      "progressant sur toute la ligne, au point que vous êtes tout près d'envoyer des vôtres dans la \n",
      "lune. D'ailleurs, c'est en connaissance de cause que le peuple français mesure vos mérites et \n",
      "vos réussites. Car depuis tantôt deux siècles il a connu, lui aussi, les secousses des grandes \n",
      "batailles,  des  invasions  et  des  révolutions  ;  il  a  subi,  lui  aussi,  lors  des  deux  guerres \n",
      "mondiales,  et  ensuite  durement  réparé,  d'énormes  pertes  humaines  et  matérielles  ;  il \n",
      "accomplit  actuellement,  lui  aussi,  une  profonde  rénovation  économique,  scientifique  et \n",
      "technique.  Certes,  nous  ne  faisons  pas  tout  cela,  vous  et  nous,  de  la  même  façon  et  les \n",
      "moyens que nous y employons sont souvent très différents. Mais, au total, votre destin et le \n",
      "nôtre  sont  semblables  et  conjugués.  Soviétiques et  Français,  nous  pouvons  nous  donner la \n",
      "main. \n",
      "  \n",
      "C'est dire que, dans le monde et à l'époque d'aujourd'hui, nos deux pays ont à faire ensemble \n",
      "beaucoup de choses de premier ordre. Or, ces choses-là sont, non point du tout destructrices \n",
      "ou menaçantes, mais constructives et pacifiques. Il s'agit tout d'abord de faire avancer notre \n",
      "développement respectif en multipliant nos échanges dans tous les domaines. En effet, si la \n",
      "France  et  l'Union  Soviétique,  chacune  de  son  côté,  ont  ce  qu'il  leur  faut  pour  vivre,  il  est \n",
      "clair,  qu'en  s'aidant  l'une  l'autre,  elles  ont  à  gagner  beaucoup.  Il  s'agit  aussi  de  mettre  en \n",
      "oeuvre  successivement  :  la  détente,  l'entente  et  la  coopération  dans  notre  Europe  tout \n",
      "entière, afin qu'elle se donne à elle-même sa propre sécurité après tant de combats, de ruines \n",
      "et de déchirements. Il s'agit, par là, de faire en sorte que notre ancien continent, uni et non \n",
      "plus divisé, reprenne le rôle capital  qui lui revient, pour l'équilibre, le progrès et la paix de \n",
      "l'univers. \n",
      "  \n",
      "Il s'adresse ici en russe : \n",
      "  \n",
      "\n",
      "\f",
      "\n"
     ]
    }
   ],
   "source": [
    "# Get the page number of any token.\n",
    "print(doc[0]._.page_number)  # 1\n",
    "print(doc[-1]._.page_number) # 4\n",
    "\n",
    "# Get page meta data about the PDF document.\n",
    "print(doc._.pdf_file_name)   \n",
    "print(doc._.page_range)     \n",
    "print(doc._.first_page)      \n",
    "print(doc._.last_page)       \n",
    "\n",
    "# Get all of the text from a specific PDF page.\n",
    "print(doc._.page(1))         # 'able to display the destination page (unless...'"
   ]
  },
  {
   "cell_type": "markdown",
   "id": "9cd52f01",
   "metadata": {},
   "source": [
    "# Iterate over all files in the /data directory"
   ]
  },
  {
   "cell_type": "code",
   "execution_count": 2,
   "id": "dc2a2b8d",
   "metadata": {},
   "outputs": [],
   "source": [
    "nlp = spacy.load('fr_core_news_sm')"
   ]
  },
  {
   "cell_type": "code",
   "execution_count": 13,
   "id": "54ce9dbf",
   "metadata": {},
   "outputs": [],
   "source": [
    "text_files = []\n",
    "\n",
    "# Iterate over each file in the /data directory\n",
    "for file_path in glob.iglob('../../data/*.pdf'):\n",
    "    \n",
    "    string = ''\n",
    "    # Read the file \n",
    "    doc = pdf_reader(file_path, nlp)\n",
    "    \n",
    "    # Iterate over all pages and store the text in the list text_files\n",
    "    for i in range(doc._.first_page, doc._.last_page + 1):\n",
    "        \n",
    "        string += doc._.page(i).text\n",
    "    \n",
    "    text_files.append(string)"
   ]
  },
  {
   "cell_type": "code",
   "execution_count": 14,
   "id": "ee48f795",
   "metadata": {},
   "outputs": [
    {
     "name": "stdout",
     "output_type": "stream",
     "text": [
      "Discours sur la politique de rigueur, 28 décembre 1958 \n",
      "  \n",
      "Le 21 décembre, le général de Gaulle a été élu Président de la République française et de \n",
      "la  Communauté.  En  annonçant  qu'il  accepte  le  mandat  qui  lui  a  été  confié,  il  expose \n",
      "comment il l'accomplira et donne les raisons de la politique financière de rigueur qui va \n",
      "être mise en œuvre. \n",
      " \n",
      "Avant tout, Françaises, Français, je veux vous dire que j'accepte le mandat que vous m'avez \n",
      "confié. Votre décision fut marquée lors de la crise nationale du mois de mai, affirmée par le \n",
      "référendum,  répétée  par  les  élections,  précisée  par  le  vote  des  élus  dimanche  dernier.  La \n",
      "tâche nationale qui m'incombe depuis dix-huit ans se trouve, de ce fait, confirmée. Guide de \n",
      "la France et Chef de l'État républicain, j'exercerai le pouvoir suprême dans toute l'étendue \n",
      "qu'il comporte désormais et suivant l'esprit nouveau qui me l'a fait attribuer. \n",
      "L'appel  qui  m'est  adressé  par  le  pays  exprime  son  instinct  du  salut.  S'il  me  charge  de  le \n",
      "conduire, c'est parce qu'il veut aller, non certes à la facilité, mais à l'effort et au renouveau. \n",
      "Depuis sept mois, assez remplis, nous y allons, en effet, et faisons quelques grands pas sur \n",
      "la  voie  du  redressement.  En  vérité,  il  était  temps.  Car,  à  la  veille  du  démarrage,  l'unité \n",
      "française se trouvait sur le point de se briser, entraînant tout à l'effondrement. \n",
      "Bien entendu, le danger s'étendait aux finances et à l'économie. Dans les derniers jours de \n",
      "mai, nous étions, à cet égard, sur la route de la catastrophe. La balance des comptes entre ce \n",
      "qu'il  nous  fallait  acheter  au-dehors  et  ce  que  nous  pouvions  y  vendre  atteignait  un  déficit \n",
      "apparemment  irréductible,  tandis  que  les  prêts  étrangers  se  trouvaient  presque  épuisés. \n",
      "D'ailleurs, on ne voyait plus comment faire face normalement à toutes les dépenses de l'État, \n",
      "les impôts n'y suffisant point et le crédit semblant s'éteindre. Enfin, les prix ne cessaient pas \n",
      "de  monter,  ainsi  que  l'inquiétude  sociale.  Brochant  sur  le  tout,  une  certaine  récession  se \n",
      "faisait déjà sentir. Le mouvement du mois de mai, s'il apparut d'abord en Algérie, procédait \n",
      "en  réalité  de  la  conviction  générale  que  le  pouvoir  était  impuissant  devant  la  marée  des \n",
      "menaces, y compris, naturellement, celles qui pesaient sur notre économie. \n",
      "La confiance du pays nous a permis, dans ce domaine comme dans les autres, de renverser \n",
      "la tendance et de parer au plus pressé. Cependant, la situation demeure précaire, c'est-à-dire \n",
      "dangereuse. Quand on mesure les espoirs que nous apportent la nombreuse jeunesse venue \n",
      "au  monde  depuis  la  guerre,  le  pétrole,  le  gaz  et  l'uranium  découverts,  notre  outillage  en \n",
      "progrès,  nos  élites  nouvelles  surgissant  du  fond  du  peuple,  notre  association  avec  la \n",
      "Communauté,  l'élargissement  imminent  du  marché  européen,  on  est  saisi  à  la  fois  par \n",
      "l'impatience et la résolution. \n",
      "Avec  mon  gouvernement,  j'ai  donc  pris  la  décision  de  mettre  nos  affaires  en  ordre \n",
      "réellement et profondément. Le budget en est l'occasion, peut-être ultime, très bonne en tout \n",
      "cas.  Nous  avons  adopté  et,  demain,  nous  appliquerons  tout  un  ensemble  de  mesures \n",
      "financières, économiques, sociales, qui établit la nation sur une base de vérité et de sévérité, \n",
      "la seule qui puisse lui permettre de bâtir sa prospérité. Je ne cache pas que notre pays va se \n",
      "trouver quelque temps à l'épreuve. Mais le rétablissement visé est tel qu'il peut nous payer \n",
      "de tout. \n",
      "Au  point  de  vue  des  charges  publiques,  rien  ne  saurait  être  accepté  qui  aboutisse  à \n",
      "l'inflation. Mais, en même temps, tout doit être fait pour poursuivre, et même pour accroître, \n",
      "les investissements qui commandent notre avenir, soit dans le domaine social : logements, \n",
      "écoles, hôpitaux, soit dans le domaine économique : énergie, équipement, communications. \n",
      "En  outre,  nous  avons  entrepris  de  transformer  l'Algérie  tandis  qu'avance  la  pacification. \n",
      "Encore. nous faut-il concourir à la mise en valeur des pays de la Communauté. Enfin, nous \n",
      "ne pouvons pas, dans l'état où est l'univers, nous dispenser d'une force militaire importante. \n",
      "Mais toutes ces obligations, jointes aux dépenses normales de l'État, comporteraient, si nous \n",
      "\n",
      "\f",
      "laissions aller les choses, un déficit de 1 200 milliards, soit deux fois plus que l'épargne n'est \n",
      "susceptible  de  nous  fournir.  A  moins  de  recourir  à  la  ruineuse  inflation  ou  de  faillir  à  la \n",
      "France, il n'y a rien d'autre à faire que de réduire de moitié le déficit menaçant. C'est ce qui \n",
      "est décidé. \n",
      "Tout à l'heure, M. Pinay, ministre des Finances et des Affaires économiques, vous indiquera \n",
      "avec précision quelles dispositions sont prises. En voici l'essentiel. Accroître les impôts sur \n",
      "les  sociétés  et  sur  les  revenus  élevés.  Taxer  le  vin,  l'alcool,  le  tabac.  Supprimer  maintes \n",
      "subventions  accordées  par  le  Trésor  et  qui  s'appliquent,  en  particulier,  à  des  produits  de \n",
      "consommation.  Réduire  la  participation  du  budget  au  financement  des  entreprises \n",
      "nationalisées,  notamment  des  chemins  de  fer.  Combler,  dans  le  fonctionnement  des \n",
      "assurances  sociales,  le  déficit  dont  les  fonds  publics  ont  à  supporter  la  charge.  Inviter  les \n",
      "anciens combattants qui sont pourvus du nécessaire et qui ne sont pas invalides à renoncer à \n",
      "leur retraite ; les pensions des veuves, des orphelins, des mutilés, restant, bien entendu, ce \n",
      "qu'elles sont. Abolir une série de ces indexations qui ne sont, en réalité, que proclamations \n",
      "de méfiance à l'égard de la monnaie. En revanche, augmenter de 245 milliards, c'est-à-dire \n",
      "de 25 %, le montant des investissements qui sont notre richesse future et ouvrent carrière à \n",
      "notre  jeunesse.  Voilà  de  rudes  dispositions  !  Je  ne  sais  que  trop  ce  que,  dans  l'immédiat, \n",
      "elles  coûteront  à  beaucoup.  Mais  je  les  crois  efficaces,  je  les  tiens  pour  nécessaires,  et  je \n",
      "suis sûr qu'en définitive tout le monde tirera profit de l'équilibre ainsi réalisé. \n",
      "Comme on peut s'attendre à ce qu'il en résulte, au moins momentanément, quelque hausse \n",
      "du niveau des prix, le gouvernement prend aussi des mesures relatives au pouvoir d'achat, \n",
      "de  celui  surtout  des  Français  dont  le  revenu  est  le  plus  modeste.  Le  1er  février,  le  salaire \n",
      "minimum  interprofessionnel  garanti  sera  accru  en  conséquence,  tandis  que,  dès  le  1er \n",
      "janvier, les vieilles gens verront leur retraite majorée de 5 200 francs. J'ajoute que va être \n",
      "créé, par coopération du patronat et des syndicats, un fonds spécial destiné au maintien de \n",
      "l'emploi et assurant aux travailleurs qui se trouveraient en chômage, un complément portant \n",
      "l'allocation aux environs du salaire minimum. Quant aux personnels dépendant directement \n",
      "de l'État : fonction publique, services, entreprises nationalisées, il est prévu, qu'à partir du \n",
      "1er février, leur rémunération sera, \"ne varietur\", augmentée de 4 %. \n",
      "Dans  le  monde  d'aujourd'hui,  rien  ne  vaut  que  par  comparaison.  Or,  nous  sommes \n",
      "actuellement,  vis-à-vis  de  l'extérieur,  dans  une  situation  économique  diminuée.  Empêchés \n",
      "d'importer  et  d'exporter  suffisamment,  endettés,  privés  de  crédit,  alors  que  nos  produits, \n",
      "notre technique, nos capacités, sont à hauteur de toutes les concurrences, nous sommes loin \n",
      "d'atteindre  au  large  niveau  d'échanges  qui  développerait  notre  activité.  Ce  qu'il  y  a \n",
      "d'artificiel dans la valeur de notre monnaie provient, certes, du déséquilibre de nos affaires, \n",
      "mais n'en est pas moins une cause permanente de difficultés. \n",
      "C'est pourquoi, tout en remédiant au désordre fondamental, nous devons placer notre franc \n",
      "sur  une  base  telle  qu'il  soit  inébranlable.  Nous  le  faisons  donc,  regrettant  d'en  abaisser  le \n",
      "taux,  mais  tirant  les  conséquences  de  négligences  prolongées.  Du  même  coup,  notre \n",
      "monnaie devient convertible au-dehors en toutes monnaies étrangères, en même temps et au \n",
      "même titre que plusieurs de nos partenaires européens le font pour leur livre, leur mark, leur \n",
      "lire, leur florin, etc. Au surplus, le vieux franc français, si souvent mutilé à mesure de nos \n",
      "vicissitudes, nous voulons qu'il reprenne une substance conforme au respect qui lui est dû. \n",
      "Avant la fin de 1959, apparaîtra le franc nouveau valant cent francs d'aujourd'hui. Quant aux \n",
      "échanges avec l'étranger nous avons pris la décision de les libérer à 90 % ouvrant les vannes \n",
      "au  courant  et  replaçant  décidément  la  France,  dans  le  domaine  économique,  à  son  rang \n",
      "international. \n",
      "Cet  ensemble,  dont  toutes  les  parties  se  tiennent  et  se  complètent,  cet  ensemble  est  grave \n",
      "mais  essentiel.  Sans  l'effort  de  remise  en  ordre,  avec  les  sacrifices  qu'il  requiert  et  les \n",
      "espoirs qu'il comporte, nous resterons un pays à la traîne, oscillant perpétuellement entre le \n",
      "\n",
      "\f",
      "drame et la médiocrité. Au contraire, si nous réussissons la grande entreprise nationale de \n",
      "redressement  financier  et  économique,  quelle  étape  sur  la  route  qui  nous  mène  vers  les \n",
      "sommets ! C'est le voeu que je forme à l'adresse de toutes et de tous tandis qu'approche la \n",
      "nouvelle année. \n",
      "Peuple français, grand peuple ! fierté, courage, espérance \n",
      "Vive la République ! \n",
      "Vive la France !\n"
     ]
    }
   ],
   "source": [
    "print(text_files[0])"
   ]
  },
  {
   "cell_type": "code",
   "execution_count": 15,
   "id": "caa7195c",
   "metadata": {},
   "outputs": [],
   "source": [
    "df = pd.DataFrame(text_files)"
   ]
  },
  {
   "cell_type": "code",
   "execution_count": 20,
   "id": "66dd836e",
   "metadata": {},
   "outputs": [
    {
     "name": "stdout",
     "output_type": "stream",
     "text": [
      "                                                    0\n",
      "0   Discours sur la politique de rigueur, 28 décem...\n",
      "1   Toast  adressé  à  S.E.  M.  Philibert  Tsiran...\n",
      "2   Toast adressé à S.M. SAVANC, Vatthanna, Roi du...\n",
      "3   Toast adressé à S. E. M. L. M'BA, Président de...\n",
      "4   Toast  adressé  à  S.A.  LE  PRINCE  SOUVANNA-...\n",
      "..                                                ...\n",
      "84  Communiqué du 27 mai 1958 \\n  \\nLe  gouverneme...\n",
      "85  Lettre du général de Gaulle à David Ben Gourio...\n",
      "86  Discours prononcé à l'Université de Bucarest, ...\n",
      "87  Discours prononcé à Tunis, 7 mai 1944 \\n  \\nLe...\n",
      "88  Toast adressé à S.A.R La Grande Duchesse de Lu...\n",
      "\n",
      "[89 rows x 1 columns]\n"
     ]
    }
   ],
   "source": [
    "print(df)"
   ]
  },
  {
   "cell_type": "code",
   "execution_count": 21,
   "id": "0a70d0c9",
   "metadata": {},
   "outputs": [],
   "source": [
    "df.to_csv('dataset.csv', index=False)"
   ]
  },
  {
   "cell_type": "markdown",
   "id": "1983ad9f",
   "metadata": {},
   "source": [
    "# Write file to txt"
   ]
  },
  {
   "cell_type": "code",
   "execution_count": 48,
   "id": "6c8d5467",
   "metadata": {},
   "outputs": [],
   "source": [
    "#open text file\n",
    "text_file = open(\"data.txt\", \"w\")\n",
    "\n",
    "#write string to file\n",
    "text_file.write(data)\n",
    "\n",
    "#close file\n",
    "text_file.close()"
   ]
  }
 ],
 "metadata": {
  "kernelspec": {
   "display_name": "Python 3 (ipykernel)",
   "language": "python",
   "name": "python3"
  },
  "language_info": {
   "codemirror_mode": {
    "name": "ipython",
    "version": 3
   },
   "file_extension": ".py",
   "mimetype": "text/x-python",
   "name": "python",
   "nbconvert_exporter": "python",
   "pygments_lexer": "ipython3",
   "version": "3.10.4"
  }
 },
 "nbformat": 4,
 "nbformat_minor": 5
}
