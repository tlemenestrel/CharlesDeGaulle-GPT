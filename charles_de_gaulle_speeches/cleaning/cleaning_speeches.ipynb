{
 "cells": [
  {
   "cell_type": "code",
   "execution_count": 9,
   "id": "5d154925",
   "metadata": {},
   "outputs": [],
   "source": [
    "import glob\n",
    "import spacy\n",
    "from spacypdfreader import pdf_reader"
   ]
  },
  {
   "cell_type": "code",
   "execution_count": 10,
   "id": "eb14ec8e",
   "metadata": {},
   "outputs": [],
   "source": [
    "nlp = spacy.load('fr_core_news_sm')\n",
    "doc = pdf_reader('../../data/Discours-a-Moscou.pdf', nlp)"
   ]
  },
  {
   "cell_type": "code",
   "execution_count": 15,
   "id": "cf1cf3b2",
   "metadata": {},
   "outputs": [
    {
     "name": "stdout",
     "output_type": "stream",
     "text": [
      "1\n",
      "2\n",
      "../../data/Discours-a-Moscou.pdf\n",
      "(1, 2)\n",
      "1\n",
      "2\n",
      "Discours à Moscou, 30 juin 1966 \n",
      "  \n",
      "Le  général  de  Gaulle  prononce  une  allocution  diffusée  par  la  radio  et  la  télévision \n",
      "soviétiques. \n",
      "  \n",
      "La visite que j'achève de faire à votre pays c'est une visite que la France de toujours rend à \n",
      "la  Russie  de toujours.  Depuis  les  temps  très  lointains  où  naquirent  nos  deux nations,  elles \n",
      "n'ont jamais cessé d'éprouver l'une pour l'autre un intérêt et un attrait tout à fait particuliers. \n",
      "En  France,  les  Russes  ont  toujours  été  très  populaires.  Aussi,  en  venant  vous  voir,  il  m'a \n",
      "semblé, que ma démarche et votre réception étaient inspirées par une considération et une \n",
      "cordialité réciproques, que n'ont brisées, depuis des siècles, ni certains combats d'autrefois, \n",
      "ni  des  différences  de  régime,  ni  des  oppositions  récemment  suscitées  par  la  division  du \n",
      "monde.  Au  contraire,  l'estime  que  nous  nous  portons  a  grandi  a  mesure  des  expériences \n",
      "vécues  et  des  épreuves  traversées.  Voilà  pourquoi,  en  passant  à  Moscou,  à  Novosibirsk,  à \n",
      "Leningrad,  à  Kiev,  à  Volgograd,  en  survolant  vos  plaines,  vos  fleuves,  vos  forêts,  vos \n",
      "montagnes,  en  voyant  près  de  moi  vos  hommes,  vos  femmes,  vos  enfants,  j'étais  rempli \n",
      "d'une émotion qui me venait du fond de l'Histoire. \n",
      "  \n",
      "Cette  émotion,  je la  ressens  au  plus  haut  point en  ce  moment même. Car  me  voici  devant \n",
      "vous  tous  pour  saluer  le  peuple  russe  au  nom  du  peuple  français.  Après  l'immense \n",
      "transformation déclenchée chez vous par votre révolution depuis près de cinquante ans, au \n",
      "prix de sacrifices et d'efforts gigantesques ; puis après le drame terrible que fut pour vous la \n",
      "guerre  gagnée  il  y  a  plus  de  vingt  années  et  dont  la  part  que  vous  y  avez  prise  a  porté \n",
      "l'Union  Soviétique  au  plus  haut  degré  de  la  puissance  et  de  la  gloire  ;  enfin,  après  votre \n",
      "reconstruction  succédant  à  tant  de  ravages,  nous  vous  voyons  vivants,  pleins  de  ressort, \n",
      "progressant sur toute la ligne, au point que vous êtes tout près d'envoyer des vôtres dans la \n",
      "lune. D'ailleurs, c'est en connaissance de cause que le peuple français mesure vos mérites et \n",
      "vos réussites. Car depuis tantôt deux siècles il a connu, lui aussi, les secousses des grandes \n",
      "batailles,  des  invasions  et  des  révolutions  ;  il  a  subi,  lui  aussi,  lors  des  deux  guerres \n",
      "mondiales,  et  ensuite  durement  réparé,  d'énormes  pertes  humaines  et  matérielles  ;  il \n",
      "accomplit  actuellement,  lui  aussi,  une  profonde  rénovation  économique,  scientifique  et \n",
      "technique.  Certes,  nous  ne  faisons  pas  tout  cela,  vous  et  nous,  de  la  même  façon  et  les \n",
      "moyens que nous y employons sont souvent très différents. Mais, au total, votre destin et le \n",
      "nôtre  sont  semblables  et  conjugués.  Soviétiques et  Français,  nous  pouvons  nous  donner la \n",
      "main. \n",
      "  \n",
      "C'est dire que, dans le monde et à l'époque d'aujourd'hui, nos deux pays ont à faire ensemble \n",
      "beaucoup de choses de premier ordre. Or, ces choses-là sont, non point du tout destructrices \n",
      "ou menaçantes, mais constructives et pacifiques. Il s'agit tout d'abord de faire avancer notre \n",
      "développement respectif en multipliant nos échanges dans tous les domaines. En effet, si la \n",
      "France  et  l'Union  Soviétique,  chacune  de  son  côté,  ont  ce  qu'il  leur  faut  pour  vivre,  il  est \n",
      "clair,  qu'en  s'aidant  l'une  l'autre,  elles  ont  à  gagner  beaucoup.  Il  s'agit  aussi  de  mettre  en \n",
      "oeuvre  successivement  :  la  détente,  l'entente  et  la  coopération  dans  notre  Europe  tout \n",
      "entière, afin qu'elle se donne à elle-même sa propre sécurité après tant de combats, de ruines \n",
      "et de déchirements. Il s'agit, par là, de faire en sorte que notre ancien continent, uni et non \n",
      "plus divisé, reprenne le rôle capital  qui lui revient, pour l'équilibre, le progrès et la paix de \n",
      "l'univers. \n",
      "  \n",
      "Il s'adresse ici en russe : \n",
      "  \n",
      "\n",
      "\f",
      "\n"
     ]
    }
   ],
   "source": [
    "# Get the page number of any token.\n",
    "print(doc[0]._.page_number)  # 1\n",
    "print(doc[-1]._.page_number) # 4\n",
    "\n",
    "# Get page meta data about the PDF document.\n",
    "print(doc._.pdf_file_name)   \n",
    "print(doc._.page_range)     \n",
    "print(doc._.first_page)      \n",
    "print(doc._.last_page)       \n",
    "\n",
    "# Get all of the text from a specific PDF page.\n",
    "print(doc._.page(1))         # 'able to display the destination page (unless...'"
   ]
  },
  {
   "cell_type": "markdown",
   "id": "9cd52f01",
   "metadata": {},
   "source": [
    "# Iterate over all files in the /data directory"
   ]
  },
  {
   "cell_type": "code",
   "execution_count": 16,
   "id": "87571a38",
   "metadata": {},
   "outputs": [],
   "source": [
    "nlp = spacy.load('fr_core_news_sm')"
   ]
  },
  {
   "cell_type": "code",
   "execution_count": 18,
   "id": "54ce9dbf",
   "metadata": {},
   "outputs": [],
   "source": [
    "text_files = []\n",
    "\n",
    "# Iterate over each file in the /data directory\n",
    "for file_path in glob.iglob('../../data/*.pdf'):\n",
    "    \n",
    "    # Read the file \n",
    "    doc = pdf_reader(file_path, nlp)\n",
    "    \n",
    "    # Iterate over all pages and store the text in the list text_files\n",
    "    for i in range(doc._.first_page, doc._.last_page + 1):\n",
    "        \n",
    "        text_files.append(doc._.page(i))"
   ]
  },
  {
   "cell_type": "code",
   "execution_count": 40,
   "id": "431fdfb0",
   "metadata": {},
   "outputs": [],
   "source": [
    "text_files_str = []\n",
    "\n",
    "for file in text_files:\n",
    "    \n",
    "    text_files_str.append(file.text)"
   ]
  },
  {
   "cell_type": "code",
   "execution_count": 45,
   "id": "4cd21db9",
   "metadata": {},
   "outputs": [],
   "source": [
    "data = \"\".join(text_files_str)"
   ]
  },
  {
   "cell_type": "markdown",
   "id": "1983ad9f",
   "metadata": {},
   "source": [
    "# Write file to txt"
   ]
  },
  {
   "cell_type": "code",
   "execution_count": 48,
   "id": "6c8d5467",
   "metadata": {},
   "outputs": [],
   "source": [
    "#open text file\n",
    "text_file = open(\"data.txt\", \"w\")\n",
    "\n",
    "#write string to file\n",
    "text_file.write(data)\n",
    "\n",
    "#close file\n",
    "text_file.close()"
   ]
  }
 ],
 "metadata": {
  "kernelspec": {
   "display_name": "Python 3 (ipykernel)",
   "language": "python",
   "name": "python3"
  },
  "language_info": {
   "codemirror_mode": {
    "name": "ipython",
    "version": 3
   },
   "file_extension": ".py",
   "mimetype": "text/x-python",
   "name": "python",
   "nbconvert_exporter": "python",
   "pygments_lexer": "ipython3",
   "version": "3.10.4"
  }
 },
 "nbformat": 4,
 "nbformat_minor": 5
}
